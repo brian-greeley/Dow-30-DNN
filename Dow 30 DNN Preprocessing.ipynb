{
 "cells": [
  {
   "cell_type": "markdown",
   "metadata": {},
   "source": [
    "# Imports"
   ]
  },
  {
   "cell_type": "code",
   "execution_count": 1,
   "metadata": {},
   "outputs": [],
   "source": [
    "import numpy as np\n",
    "from sklearn import preprocessing"
   ]
  },
  {
   "cell_type": "code",
   "execution_count": 2,
   "metadata": {},
   "outputs": [
    {
     "data": {
      "text/plain": [
       "array([[ 9.9000500e-01,  5.1060140e-03,  3.3200360e-01, ...,\n",
       "         3.0004800e-02,  1.5153500e-04,  1.0000000e+00],\n",
       "       [ 9.9000500e-01,  5.1060140e-03,  3.3200360e-01, ...,\n",
       "         3.0004800e-02,  1.5153500e-04,  1.0000000e+00],\n",
       "       [ 2.3999940e+00,  1.2093696e-02,  3.3200360e-01, ...,\n",
       "         3.0004800e-02,  1.5153500e-04,  0.0000000e+00],\n",
       "       ...,\n",
       "       [-8.7000300e-01, -1.8443991e-02, -4.2199940e-01, ...,\n",
       "         1.4100020e-01,  2.8354860e-03,  1.0000000e+00],\n",
       "       [ 1.7900010e+00,  3.7972020e-02, -8.8200000e-01, ...,\n",
       "        -1.1000200e-02, -2.2083000e-04,  0.0000000e+00],\n",
       "       [-1.3699990e+00, -2.8423215e-02, -5.2800000e-01, ...,\n",
       "         7.2000000e-02,  1.4428280e-03,  0.0000000e+00]])"
      ]
     },
     "execution_count": 2,
     "metadata": {},
     "output_type": "execute_result"
    }
   ],
   "source": [
    "raw_data = np.loadtxt('Dow_061719_061720.csv', delimiter=',', usecols=(6,7,8,9,10,11,12))\n",
    "raw_data"
   ]
  },
  {
   "cell_type": "code",
   "execution_count": 3,
   "metadata": {},
   "outputs": [],
   "source": [
    "unscaled_inputs = raw_data[:,0:-1]\n",
    "targets = raw_data[:,-1]"
   ]
  },
  {
   "cell_type": "code",
   "execution_count": 4,
   "metadata": {},
   "outputs": [
    {
     "data": {
      "text/plain": [
       "array([[ 9.9000500e-01,  5.1060140e-03,  3.3200360e-01,  1.6794150e-03,\n",
       "         3.0004800e-02,  1.5153500e-04],\n",
       "       [ 9.9000500e-01,  5.1060140e-03,  3.3200360e-01,  1.6794150e-03,\n",
       "         3.0004800e-02,  1.5153500e-04],\n",
       "       [ 2.3999940e+00,  1.2093696e-02,  3.3200360e-01,  1.6794150e-03,\n",
       "         3.0004800e-02,  1.5153500e-04],\n",
       "       ...,\n",
       "       [-8.7000300e-01, -1.8443991e-02, -4.2199940e-01, -8.3643740e-03,\n",
       "         1.4100020e-01,  2.8354860e-03],\n",
       "       [ 1.7900010e+00,  3.7972020e-02, -8.8200000e-01, -1.8025014e-02,\n",
       "        -1.1000200e-02, -2.2083000e-04],\n",
       "       [-1.3699990e+00, -2.8423215e-02, -5.2800000e-01, -1.1030333e-02,\n",
       "         7.2000000e-02,  1.4428280e-03]])"
      ]
     },
     "execution_count": 4,
     "metadata": {},
     "output_type": "execute_result"
    }
   ],
   "source": [
    "unscaled_inputs"
   ]
  },
  {
   "cell_type": "code",
   "execution_count": 5,
   "metadata": {},
   "outputs": [
    {
     "data": {
      "text/plain": [
       "array([1., 1., 0., ..., 1., 0., 0.])"
      ]
     },
     "execution_count": 5,
     "metadata": {},
     "output_type": "execute_result"
    }
   ],
   "source": [
    "targets"
   ]
  },
  {
   "cell_type": "markdown",
   "metadata": {},
   "source": [
    "# Shuffle the data"
   ]
  },
  {
   "cell_type": "code",
   "execution_count": 6,
   "metadata": {},
   "outputs": [],
   "source": [
    "shuffled_indices = np.arange(unscaled_inputs.shape[0])\n",
    "np.random.shuffle(shuffled_indices)\n",
    "\n",
    "shuffled_inputs = unscaled_inputs[shuffled_indices]\n",
    "shuffled_targets = targets[shuffled_indices]"
   ]
  },
  {
   "cell_type": "markdown",
   "metadata": {},
   "source": [
    "# Balance the Dataset"
   ]
  },
  {
   "cell_type": "code",
   "execution_count": 7,
   "metadata": {},
   "outputs": [
    {
     "data": {
      "text/plain": [
       "7366"
      ]
     },
     "execution_count": 7,
     "metadata": {},
     "output_type": "execute_result"
    }
   ],
   "source": [
    "shuffled_inputs.shape[0]"
   ]
  },
  {
   "cell_type": "code",
   "execution_count": 8,
   "metadata": {},
   "outputs": [
    {
     "data": {
      "text/plain": [
       "3643"
      ]
     },
     "execution_count": 8,
     "metadata": {},
     "output_type": "execute_result"
    }
   ],
   "source": [
    "num_one_targets = int(np.sum(shuffled_targets))\n",
    "num_one_targets"
   ]
  },
  {
   "cell_type": "code",
   "execution_count": 9,
   "metadata": {},
   "outputs": [
    {
     "data": {
      "text/plain": [
       "0.4945696443117024"
      ]
     },
     "execution_count": 9,
     "metadata": {},
     "output_type": "execute_result"
    }
   ],
   "source": [
    "3643/7366"
   ]
  },
  {
   "cell_type": "markdown",
   "metadata": {},
   "source": [
    "The dataset appears already balanced"
   ]
  },
  {
   "cell_type": "markdown",
   "metadata": {},
   "source": [
    "# Standardize the inputs"
   ]
  },
  {
   "cell_type": "code",
   "execution_count": 10,
   "metadata": {},
   "outputs": [],
   "source": [
    "scaled_inputs = preprocessing.scale(shuffled_inputs)"
   ]
  },
  {
   "cell_type": "markdown",
   "metadata": {},
   "source": [
    "# Split the dataset into train, validation, and test"
   ]
  },
  {
   "cell_type": "code",
   "execution_count": 11,
   "metadata": {},
   "outputs": [],
   "source": [
    "samples_count = scaled_inputs.shape[0]"
   ]
  },
  {
   "cell_type": "code",
   "execution_count": 12,
   "metadata": {},
   "outputs": [
    {
     "name": "stdout",
     "output_type": "stream",
     "text": [
      "5892 736 738\n"
     ]
    }
   ],
   "source": [
    "train_samples_count = int(0.8*samples_count)\n",
    "validation_samples_count = int(0.1*samples_count)\n",
    "test_samples_count = samples_count - train_samples_count - validation_samples_count\n",
    "\n",
    "train_inputs = scaled_inputs[:train_samples_count]\n",
    "train_targets = shuffled_targets[:train_samples_count]\n",
    "\n",
    "validation_inputs = scaled_inputs[train_samples_count:train_samples_count+validation_samples_count]\n",
    "validation_targets = shuffled_targets[train_samples_count:train_samples_count+validation_samples_count]\n",
    "\n",
    "test_inputs = scaled_inputs[train_samples_count+validation_samples_count:]\n",
    "test_targets = shuffled_targets[train_samples_count+validation_samples_count:]\n",
    "\n",
    "print(train_samples_count, validation_samples_count, test_samples_count)"
   ]
  },
  {
   "cell_type": "markdown",
   "metadata": {},
   "source": [
    "# Save the three datasets in *.npz"
   ]
  },
  {
   "cell_type": "code",
   "execution_count": 13,
   "metadata": {},
   "outputs": [],
   "source": [
    "np.savez('data_train', inputs=train_inputs, targets=train_targets)\n",
    "np.savez('data_validation', inputs=validation_inputs, targets=validation_targets)\n",
    "np.savez('data_test', inputs=test_inputs, targets=test_targets)"
   ]
  },
  {
   "cell_type": "code",
   "execution_count": null,
   "metadata": {},
   "outputs": [],
   "source": []
  }
 ],
 "metadata": {
  "kernelspec": {
   "display_name": "Python 3",
   "language": "python",
   "name": "python3"
  },
  "language_info": {
   "codemirror_mode": {
    "name": "ipython",
    "version": 3
   },
   "file_extension": ".py",
   "mimetype": "text/x-python",
   "name": "python",
   "nbconvert_exporter": "python",
   "pygments_lexer": "ipython3",
   "version": "3.7.7"
  }
 },
 "nbformat": 4,
 "nbformat_minor": 4
}
